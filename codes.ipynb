import numpy as np
import pandas as pd
import matplotlib.pyplot as plt

df = pd.DataFrame({'1stcolumn':[100,200], '2ndcolumn':[10,20]})
df
